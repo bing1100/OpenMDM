{
 "cells": [
  {
   "attachments": {},
   "cell_type": "markdown",
   "metadata": {},
   "source": [
    "# Demo\n",
    "\n",
    "In this demo, a single iteration of MDM tuning (and Setup Wizard) is shown. \n",
    "1. The input MDM JSON config file (V1) is loaded \n",
    "2. A Dataset is constructed with Smile Client Data and FEBRL\n",
    "3. A ML algorithm is applied onto the input MDM JSON config file and the dataset\n",
    "4. A resulting optimized MDM JSON config file (V2) is saved\n",
    "\n",
    "After additional data is generated from the client using the optimized MDM JSON file, it can be input back into the optimization system (Repeat steps 1-4).\n",
    "\n",
    "WIP is denoted in sections where dummy functions are used for sake of demonstration. "
   ]
  },
  {
   "attachments": {},
   "cell_type": "markdown",
   "metadata": {},
   "source": [
    "### Import the Classes"
   ]
  },
  {
   "cell_type": "code",
   "execution_count": 10,
   "metadata": {},
   "outputs": [],
   "source": [
    "from mdmconfig import MDMConfig\n",
    "from mdmdataset import FebrlDataset\n",
    "from mdmmodel import MDMModel\n",
    "from sklearn import metrics"
   ]
  },
  {
   "attachments": {},
   "cell_type": "markdown",
   "metadata": {},
   "source": [
    "### Load the JSON Config\n",
    "\n",
    "This will load:\n",
    "- The Block Filtering (WIP)\n",
    "- The MDM algorithms\n",
    "- The Match Result Map\n",
    "\n",
    "Each of these are used in later processes."
   ]
  },
  {
   "cell_type": "code",
   "execution_count": 11,
   "metadata": {},
   "outputs": [],
   "source": [
    "mdmconfig = MDMConfig(\"./demo_rules/beta-v0.2+3/mdm_demo_config_logreg_v1.json\")\n",
    "\n",
    "block_filtering = mdmconfig.getFilteringRules()\n",
    "mdmalgos = mdmconfig.getMDMAlgos()"
   ]
  },
  {
   "attachments": {},
   "cell_type": "markdown",
   "metadata": {},
   "source": [
    "### Load The Data\n",
    "\n",
    "The dataset takes as input the block_filtering information and applies it to the data\n",
    "\n",
    "The dataset can also call functions to generate synthetic data for the dataset.\n",
    "\n",
    "The dataset class can also be called to load Smile Client Data to be used during the training process."
   ]
  },
  {
   "cell_type": "code",
   "execution_count": 12,
   "metadata": {},
   "outputs": [
    {
     "name": "stderr",
     "output_type": "stream",
     "text": [
      "100%|██████████| 926/926 [00:00<00:00, 1144013.40it/s]\n",
      "100%|██████████| 926/926 [00:00<00:00, 3084.45it/s]\n",
      "100%|██████████| 926/926 [00:00<00:00, 4345.16it/s]\n",
      "100%|██████████| 926/926 [00:00<00:00, 25739.60it/s]\n",
      "100%|██████████| 926/926 [00:00<00:00, 1265947.04it/s]\n",
      "100%|██████████| 926/926 [00:00<00:00, 77573.01it/s]\n",
      "100%|██████████| 926/926 [00:00<00:00, 90828.69it/s]\n",
      "100%|██████████| 926/926 [00:00<00:00, 91343.50it/s]\n",
      "100%|██████████| 926/926 [00:00<00:00, 50893.34it/s]\n",
      "WARNING:root:No columns specified, returning all columns in unspecified order.\n"
     ]
    }
   ],
   "source": [
    "dataset = FebrlDataset(mdmconfig)\n",
    "#dir = \"./dataset_data/mdm_source_data_synthetic/\"\n",
    "dataset.load_febrl()\n",
    "#dataset.load_smile(dir + 'source_v1.csv', dir + 'links_v1.csv')\n",
    "features, X_train, X_test, X_val, y_train, y_test, y_val = dataset.split_()"
   ]
  },
  {
   "cell_type": "code",
   "execution_count": 13,
   "metadata": {},
   "outputs": [
    {
     "name": "stdout",
     "output_type": "stream",
     "text": [
      "Index(['birthday', 'address_1', 'address_2', 'suburb', 'postcode', 'state',\n",
      "       'firstname-caverphone', 'lastname-caverphone', 'firstname-jaro'],\n",
      "      dtype='object')\n",
      "[False 0.9230769230769231 0.95 1.0 True 1.0 False False 0.5119047619047619]\n",
      "True\n"
     ]
    }
   ],
   "source": [
    "print(features)\n",
    "print(X_train[0])\n",
    "print(y_train[0])"
   ]
  },
  {
   "attachments": {},
   "cell_type": "markdown",
   "metadata": {},
   "source": [
    "### Applying ML\n",
    "\n",
    "The ML model can be defined and fed. Examples of ML models include:\n",
    "- MDM Match Result Map as Decision Tree (as implemented in Smile)\n",
    "- Logistic Regression\n",
    "- Decision Tree\n",
    "- Random Forest \n",
    "- etc (WIP)...\n",
    "\n",
    "After defining the ML model, the ML model can be fed into a trainer class. The trainer class includes:\n",
    "- Basic Trainer\n",
    "- Ensemble Trainers\n",
    "    - Sequential\n",
    "    - Voting/Stacking (WIP)\n",
    "\n",
    "The trainer can train the model to get the ML suggested changes to implement onto the JSON config file"
   ]
  },
  {
   "cell_type": "code",
   "execution_count": 15,
   "metadata": {},
   "outputs": [],
   "source": [
    "model = MDMModel(mdmconfig, features)\n",
    "model.train(X_train, y_train)"
   ]
  },
  {
   "attachments": {},
   "cell_type": "markdown",
   "metadata": {},
   "source": [
    "The following will add the additional fields to the config file:"
   ]
  },
  {
   "attachments": {},
   "cell_type": "markdown",
   "metadata": {},
   "source": [
    "### Using and Saving the Optimizations (WIP)\n",
    "\n",
    "The trained model can then be used to inference on test data. \n",
    "\n",
    "The trained model can also save itself as a new JSON config file for the next iteration."
   ]
  },
  {
   "cell_type": "code",
   "execution_count": 17,
   "metadata": {},
   "outputs": [
    {
     "name": "stdout",
     "output_type": "stream",
     "text": [
      "Purely MDM Algorithms\n",
      "accuracy:  0.6989247311827957\n",
      "f1:  0.631578947368421\n",
      "Firstname/Lastname MDM Algo + LogReg Address\n",
      "accuracy:  0.7419354838709677\n",
      "f1:  0.7000000000000001\n",
      "LogReg Firstname/Lastname + MDM Algo Addresses\n",
      "accuracy:  0.7741935483870968\n",
      "f1:  0.7469879518072289\n",
      "LogReg Firstname/Lastname + LogReg Addresses\n",
      "accuracy:  0.8172043010752689\n",
      "f1:  0.8045977011494253\n"
     ]
    }
   ],
   "source": [
    "matches, possible_matches = model.infer(X_test)\n",
    "print(\"Purely MDM Algorithms\")\n",
    "print(\"accuracy: \", metrics.accuracy_score(y_test, matches[0]))\n",
    "print(\"f1: \", metrics.f1_score(y_test, matches[0]))\n",
    "\n",
    "print(\"Firstname/Lastname MDM Algo + LogReg Address\")\n",
    "print(\"accuracy: \", metrics.accuracy_score(y_test, matches[1]))\n",
    "print(\"f1: \", metrics.f1_score(y_test, matches[1]))\n",
    "\n",
    "print(\"LogReg Firstname/Lastname + MDM Algo Addresses\")\n",
    "print(\"accuracy: \", metrics.accuracy_score(y_test, matches[2]))\n",
    "print(\"f1: \", metrics.f1_score(y_test, matches[2]))\n",
    "\n",
    "print(\"LogReg Firstname/Lastname + LogReg Addresses\")\n",
    "print(\"accuracy: \", metrics.accuracy_score(y_test, matches[3]))\n",
    "print(\"f1: \", metrics.f1_score(y_test, matches[3]))\n",
    "\n",
    "model.save(\"./demo_rules/beta-v0.2+3/mdm_demo_config_logreg_v2\")"
   ]
  },
  {
   "cell_type": "code",
   "execution_count": null,
   "metadata": {},
   "outputs": [],
   "source": []
  },
  {
   "attachments": {},
   "cell_type": "markdown",
   "metadata": {},
   "source": [
    "### The Next Iteration\n",
    "\n",
    "This optimized MDM JSON config file can be deployed for customers to generate more data.\n",
    "\n",
    "With additional data, the optimized MDM JSON config file can then be iterated upon in the same pipeline (repeat steps 1-4).\n"
   ]
  }
 ],
 "metadata": {
  "kernelspec": {
   "display_name": "Python 3",
   "language": "python",
   "name": "python3"
  },
  "language_info": {
   "codemirror_mode": {
    "name": "ipython",
    "version": 3
   },
   "file_extension": ".py",
   "mimetype": "text/x-python",
   "name": "python",
   "nbconvert_exporter": "python",
   "pygments_lexer": "ipython3",
   "version": "3.8.10"
  },
  "orig_nbformat": 4,
  "vscode": {
   "interpreter": {
    "hash": "31f2aee4e71d21fbe5cf8b01ff0e069b9275f58929596ceb00d14d90e3e16cd6"
   }
  }
 },
 "nbformat": 4,
 "nbformat_minor": 2
}
